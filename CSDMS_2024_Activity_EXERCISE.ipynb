{
 "cells": [
  {
   "cell_type": "markdown",
   "id": "2b70cfaf-118d-4103-8ce4-1cfcafa15f65",
   "metadata": {},
   "source": [
    "# Jupyter Notebook Activity: Running CASCADE"
   ]
  },
  {
   "cell_type": "markdown",
   "id": "e2e09f0f-b34c-4223-bd25-6f8cad115bc5",
   "metadata": {},
   "source": [
    "In this activity, you will learn how to run `CASCADE`. You will also learn how to update variables outside of CASCADE's framework (e.g. in this notebook)."
   ]
  },
  {
   "cell_type": "code",
   "execution_count": 1,
   "id": "2656ae79-51fb-4f37-a003-935bde72ef47",
   "metadata": {
    "tags": []
   },
   "outputs": [],
   "source": [
    "# These are the various libraries we will need\n",
    "\n",
    "import matplotlib.pyplot as plt\n",
    "import numpy as np\n",
    "\n",
    "# Because CASCADE is a Class in Python, we can import it with all its functions\n",
    "from cascade import Cascade"
   ]
  },
  {
   "cell_type": "markdown",
   "id": "3c7f13ad-b6a0-49c5-808a-7732337259ad",
   "metadata": {},
   "source": [
    "### Running CASCADE: natural dynamics"
   ]
  },
  {
   "cell_type": "markdown",
   "id": "310fd07c",
   "metadata": {},
   "source": [
    "In order to run CASCADE with natural dynamics, all additional modules are turned off (set to False) in the initialization. Additionally, in the initialization below, we only show some of the input parameters you can change. There are many others related to various coastal processes and human dynamics. "
   ]
  },
  {
   "cell_type": "code",
   "execution_count": 2,
   "id": "db7a1fa9-cef4-41d5-be0d-56a1733f28fb",
   "metadata": {
    "tags": []
   },
   "outputs": [],
   "source": [
    "datadir = \"data/\"\n",
    "name = \"natural_dynamics\"\n",
    "total_time = 101\n",
    "\n",
    "cascade_natural = Cascade(\n",
    "    datadir,\n",
    "    name=name,\n",
    "    elevation_file=\"barrier3d-default-elevation.npy\",\n",
    "    dune_file=\"barrier3d-default-dunes.npy\",\n",
    "    parameter_file=\"barrier3d-default-parameters.yaml\",\n",
    "    storm_file=\"cascade-default-storms.npy\",\n",
    "    roadway_management_module=False,\n",
    "    alongshore_transport_module=False,\n",
    "    beach_nourishment_module=False,\n",
    "    community_economics_module=False,\n",
    "    time_step_count=total_time,\n",
    "    wave_height=1, # ---------- for BRIE and Barrier3D --------------- #\n",
    "    wave_period=7,\n",
    "    wave_asymmetry=0.8,\n",
    "    wave_angle_high_fraction=0.2,\n",
    "    bay_depth=3.0,\n",
    "    s_background=0.001,\n",
    "    berm_elevation=1.9,\n",
    "    MHW=0.46,\n",
    "    beta=0.04,\n",
    "    sea_level_rise_rate=0.004,\n",
    "    sea_level_rise_constant=True,\n",
    "    background_erosion=0.0,\n",
    "    min_dune_growth_rate=0.25,\n",
    "    max_dune_growth_rate=0.65,\n",
    ")\n"
   ]
  },
  {
   "cell_type": "code",
   "execution_count": null,
   "id": "fc34fc8d-0c98-446c-ace6-37f5fb6e7637",
   "metadata": {
    "tags": []
   },
   "outputs": [],
   "source": [
    "# we run CASCADE by looping over its update function\n",
    "\n",
    "for time_step in range(cascade_natural._nt - 1):\n",
    "    print(\"\\r\", \"Time Step: \", time_step + 1, end=\"\")\n",
    "    cascade_natural.update()\n",
    "    if cascade_natural.b3d_break:  # here, we check to see if the barrier has drowned and stop if it has\n",
    "        break"
   ]
  },
  {
   "cell_type": "markdown",
   "id": "b6479c33-aac8-4dea-ab0a-1c06bdf90376",
   "metadata": {},
   "source": [
    "After intializing cascade, you can access variables (which are mostly housed in Barrier3D) using the notation `cascade.barrier3d[0].variable_name` See the example below, where we plot the domain at various time steps from the model run."
   ]
  },
  {
   "cell_type": "code",
   "execution_count": null,
   "id": "6a147586-be94-4558-a9ac-37114bc45795",
   "metadata": {
    "tags": []
   },
   "outputs": [],
   "source": [
    "# plotting results (elevations here) from the natural run\n",
    "\n",
    "plot_years = [0, 25, 50, 75, 100]\n",
    "vmin = -3\n",
    "vmax = 6\n",
    "plot_num = 1\n",
    "\n",
    "for year in plot_years:\n",
    "    dune_domain = np.transpose(cascade_natural.barrier3d[0]._DuneDomain[year]) + cascade_natural.barrier3d[0].BermEl\n",
    "    interior_domain = cascade_natural.barrier3d[0]._DomainTS[year]\n",
    "    full_domain = np.vstack([dune_domain, interior_domain])\n",
    "    \n",
    "    fig1 = plt.figure(figsize=(5,3))\n",
    "    ax1 = fig1.add_subplot()\n",
    "    mat = ax1.matshow(\n",
    "        np.flip(full_domain) * 10,\n",
    "        cmap=\"terrain\",\n",
    "        vmin=vmin,\n",
    "        vmax=vmax,\n",
    "    )\n",
    "    ax1.set_title(\"year {0}\".format(year))\n",
    "    plt.gca().xaxis.tick_bottom()\n",
    "    xtick_max = np.shape(full_domain)[1]  # n_cols = x\n",
    "    x_ticks = np.array(range(0, xtick_max, 10))\n",
    "    x_tick_labels = x_ticks * 10\n",
    "    ytick_max = np.shape(full_domain)[0]  # n_rows = y\n",
    "    y_ticks = np.array(range(0, ytick_max, 10))\n",
    "    y_tick_labels = y_ticks * 10\n",
    "    plt.xticks(x_ticks, x_tick_labels)\n",
    "    plt.yticks(y_ticks, y_tick_labels)\n",
    "    plt.ylabel(\"Barrier Width (m)\")\n",
    "    plt.xlabel(\"Barrier Length (m)\")\n",
    "    cbar = fig1.colorbar(mat)\n",
    "    cbar.set_label('m MHW', rotation=270, labelpad=5)\n",
    "    plot_num += 1"
   ]
  },
  {
   "cell_type": "code",
   "execution_count": null,
   "id": "3dfa2f60-28de-4542-85fa-03fdd7af1ca4",
   "metadata": {
    "tags": []
   },
   "outputs": [],
   "source": [
    "# plotting the overwash flux \n",
    "\n",
    "plt.figsize=(5,3)\n",
    "OWTS = cascade_natural.barrier3d[0].QowTS #m3/m\n",
    "plt.plot(OWTS)\n",
    "plt.xlabel(\"Year\")\n",
    "plt.ylabel(\"Overwash Flux ($m^3/m$)\")"
   ]
  },
  {
   "cell_type": "code",
   "execution_count": null,
   "id": "d08cba00",
   "metadata": {},
   "outputs": [],
   "source": [
    "# plotting the shoreline position \n",
    "\n",
    "plt.figsize=(5,3)\n",
    "natural_xsTS = np.subtract(cascade_natural.barrier3d[0].x_s_TS, cascade_natural.barrier3d[0].x_s_TS[0])  # starts the shoreline position at 0 for plotting by subtracting the initial shoreline posiiton from every value\n",
    "natural_xsTS_meters = np.multiply(natural_xsTS, 10)  # convering from decameters to meters\n",
    "plt.plot(natural_xsTS_meters)\n",
    "plt.xlabel(\"Year\")\n",
    "plt.ylabel(\"Shoreline Position (m)\")"
   ]
  },
  {
   "cell_type": "markdown",
   "id": "f885e89b-4e3c-4ed6-a427-414985ad8780",
   "metadata": {},
   "source": [
    "<div class=\"alert alert-block alert-info\"> In the natural scenario, the barrier interior increases in elevation and widens due to overwash. Overwash also keeps the dunes in a low elevation state and causes the barrier to migrate landward. </div>"
   ]
  },
  {
   "cell_type": "markdown",
   "id": "c73e1fd5-ca5c-4515-a71c-ab0679a82ad9",
   "metadata": {},
   "source": [
    "### Running CASCADE: adding a sand fence"
   ]
  },
  {
   "cell_type": "code",
   "execution_count": 12,
   "id": "c248f2ab-dc19-4fbc-8593-1324ff1eafc2",
   "metadata": {
    "tags": []
   },
   "outputs": [],
   "source": [
    "datadir = \"data/\"\n",
    "name = \"natural_sand_fence\"\n",
    "total_time = 101\n",
    "\n",
    "cascade_natural_sandfence = Cascade(\n",
    "    datadir,\n",
    "    name=name,\n",
    "    elevation_file=\"barrier3d-default-elevation.npy\",\n",
    "    dune_file=\"barrier3d-default-dunes.npy\",\n",
    "    parameter_file=\"barrier3d-default-parameters.yaml\",\n",
    "    storm_file=\"cascade-default-storms.npy\",\n",
    "    roadway_management_module=False,\n",
    "    alongshore_transport_module=False,\n",
    "    beach_nourishment_module=False,\n",
    "    community_economics_module=False,\n",
    "    time_step_count=total_time,\n",
    "    wave_height=1, # ---------- for BRIE and Barrier3D --------------- #\n",
    "    wave_period=7,\n",
    "    wave_asymmetry=0.8,\n",
    "    wave_angle_high_fraction=0.2,\n",
    "    bay_depth=3.0,\n",
    "    s_background=0.001,\n",
    "    berm_elevation=1.9,\n",
    "    MHW=0.46,\n",
    "    beta=0.04,\n",
    "    sea_level_rise_rate=0.004,\n",
    "    sea_level_rise_constant=True,\n",
    "    background_erosion=0.0,\n",
    "    min_dune_growth_rate=0.25,\n",
    "    max_dune_growth_rate=0.65,\n",
    ")"
   ]
  },
  {
   "cell_type": "markdown",
   "id": "fbc9f93f-9982-4f85-a680-0ce3d1149dcd",
   "metadata": {
    "tags": []
   },
   "source": [
    "Now that you have a better understanding of how CASCADE works, we want you to add code to simulate the effect of sand fences on dunes. The dunes are each 50 cells long and there are 2 rows of them. All spatial units are in decameters (x,y,z). Here is a list of variables you may be interested in accessing/changing within CASCADE:\n",
    "<ul>\n",
    " <li> dune domain (array with shape [time_step, 50, 2]) = <code>cascade_natural_sandfence.barrier3d[0].DuneDomain</code> </li>\n",
    " <li> maximum dune height (float) = <code>cascade_natural_sandfence.barrier3d[0]._Dmax </code> </li>\n",
    " <li> dune growth rate at each cell (array with shape [1, 50]) =  <code>cascade_natural_sandfence.barrier3d[0].growthparam </code> </li>\n",
    " <li> minimum dune growth rate (float) =  <code>cascade_natural_sandfence.barrier3d[0].rmin </code> </li>\n",
    " <li> maximum dune growth rate (float) =  <code>cascade_natural_sandfence.barrier3d[0].rmax </code> </li>\n",
    " <li> you may also want to make your own variables to keep track of the sand fence, etc. </li>\n",
    " </ul>"
   ]
  },
  {
   "cell_type": "code",
   "execution_count": null,
   "id": "7518ea14-6c07-4eda-add0-88298eedbb3d",
   "metadata": {
    "tags": []
   },
   "outputs": [],
   "source": [
    "for time_step in range(cascade_natural_sandfence._nt - 1):\n",
    "    print(\"\\r\", \"Time Step: \", time_step + 1, end=\"\")\n",
    "    cascade_natural_sandfence.update()    \n",
    "    \n",
    "    ### INSERT CODE HERE ###\n",
    "\n",
    "    \n",
    "    if cascade_natural_sandfence.b3d_break:\n",
    "        break"
   ]
  },
  {
   "cell_type": "code",
   "execution_count": null,
   "id": "cd482c5a",
   "metadata": {},
   "outputs": [],
   "source": [
    "# plotting results from the sand fence run\n",
    "\n",
    "plot_years = [0, 25, 50, 75, 100]\n",
    "vmin = -3\n",
    "vmax = 6\n",
    "\n",
    "for year in plot_years:\n",
    "    dune_domain_natural_sand = np.transpose(cascade_natural_sandfence.barrier3d[0]._DuneDomain[year]) + cascade_natural_sandfence.barrier3d[0].BermEl\n",
    "    interior_domain_natural_sand = cascade_natural_sandfence.barrier3d[0]._DomainTS[year]\n",
    "    full_domain_natural_sand = np.vstack([dune_domain_natural_sand, interior_domain_natural_sand])\n",
    "    \n",
    "    fig1 = plt.figure(figsize=(5,3))\n",
    "    ax1 = fig1.add_subplot()\n",
    "    mat = ax1.matshow(\n",
    "        np.flip(full_domain_natural_sand) * 10,\n",
    "        cmap=\"terrain\",\n",
    "        vmin=vmin,\n",
    "        vmax=vmax,\n",
    "    )\n",
    "    ax1.set_title(\"year {0}\".format(year))\n",
    "    plt.gca().xaxis.tick_bottom()\n",
    "    xtick_max = np.shape(full_domain_natural_sand)[1]  # n_cols = x\n",
    "    x_ticks = np.array(range(0, xtick_max, 10))\n",
    "    x_tick_labels = x_ticks * 10\n",
    "    ytick_max = np.shape(full_domain_natural_sand)[0]  # n_rows = y\n",
    "    y_ticks = np.array(range(0, ytick_max, 10))\n",
    "    y_tick_labels = y_ticks * 10\n",
    "    plt.xticks(x_ticks, x_tick_labels)\n",
    "    plt.yticks(y_ticks, y_tick_labels)\n",
    "    plt.ylabel(\"Barrier Width (m)\")\n",
    "    plt.xlabel(\"Barrier Length (m)\")\n",
    "    cbar = fig1.colorbar(mat)\n",
    "    cbar.set_label('m MHW', rotation=270, labelpad=5)"
   ]
  },
  {
   "cell_type": "markdown",
   "id": "78a1418f-5a7d-4aa1-b992-a8df330ceafa",
   "metadata": {},
   "source": [
    "## Comparing the scenarios - plots"
   ]
  },
  {
   "cell_type": "markdown",
   "id": "124c3c57",
   "metadata": {},
   "source": [
    "<div class=\"alert alert-block alert-info\"> Discuss the differences you see between the two scenarios, and identify the relationships or feedbacks between variables. \n",
    "    </div>"
   ]
  },
  {
   "cell_type": "markdown",
   "id": "e9f4e000-55f3-44cc-af38-ee0007eeee13",
   "metadata": {},
   "source": [
    "<b>Growth Parameter"
   ]
  },
  {
   "cell_type": "code",
   "execution_count": null,
   "id": "0ba3825e",
   "metadata": {},
   "outputs": [],
   "source": [
    "plt.rcParams.update({\"font.size\": 10})\n",
    "plt.figure(figsize=(8,5))\n",
    "\n",
    "plt.plot(cascade_natural.barrier3d[0].growthparam[0], label=\"natural\")\n",
    "plt.plot(cascade_natural_sandfence.barrier3d[0].growthparam[0], label=\"sand fence\")\n",
    "plt.legend(loc=\"upper left\")\n",
    "plt.ylabel(\"growth parameter (unitless)\")\n",
    "plt.xlabel(\"alongshore barrier length\")"
   ]
  },
  {
   "cell_type": "markdown",
   "id": "557d6223-d8a9-4199-90c7-f0b7e7ccfd9a",
   "metadata": {},
   "source": [
    "<b>Dune Crests"
   ]
  },
  {
   "cell_type": "code",
   "execution_count": null,
   "id": "79517869",
   "metadata": {},
   "outputs": [],
   "source": [
    "TMAX=101\n",
    "vmin=0\n",
    "vmax=2.5\n",
    "duneFig = plt.figure(figsize=(15, 5))\n",
    "plt.rcParams.update({\"font.size\": 12})\n",
    "\n",
    "\n",
    "# natural scenario\n",
    "DuneCrest = []\n",
    "sub_domain = cascade_natural.barrier3d[0]._DuneDomain[0:TMAX, :, :]\n",
    "DuneCrest.append(sub_domain.max(axis=2))\n",
    "\n",
    "DuneCrest = np.hstack(DuneCrest).astype(float)\n",
    "\n",
    "ax = duneFig.add_subplot(121)\n",
    "cax = ax.matshow(\n",
    "    np.flip(DuneCrest,1) * 10,\n",
    "    origin=\"lower\",\n",
    "    cmap=\"bwr\",\n",
    "    aspect=\"auto\",\n",
    "    vmin=vmin,\n",
    "    vmax=vmax,\n",
    ")\n",
    "ax.xaxis.set_ticks_position(\"bottom\")\n",
    "cbar = duneFig.colorbar(cax)\n",
    "cbar.set_label('Dune Height Above Berm Elevation (m)', rotation=270, labelpad=25)\n",
    "plt.xlabel(\"Alongshore Distance (m)\")\n",
    "plt.ylabel(\"Year\")\n",
    "plt.title(\"natural\", weight=\"bold\")\n",
    "\n",
    "xtick_max = np.shape(DuneCrest)[1]  # n_cols = x\n",
    "x_ticks = np.array(range(0, xtick_max, 10))\n",
    "x_tick_labels = x_ticks * 10\n",
    "plt.xticks(x_ticks, x_tick_labels)\n",
    "\n",
    "\n",
    "# sand fence\n",
    "DuneCrest_sandfence = []\n",
    "sub_domain_sandfence = cascade_natural_sandfence.barrier3d[0]._DuneDomain[0:TMAX, :, :]\n",
    "DuneCrest_sandfence.append(sub_domain_sandfence.max(axis=2))\n",
    "\n",
    "DuneCrest_sandfence = np.hstack(DuneCrest_sandfence).astype(float)\n",
    "\n",
    "ax = duneFig.add_subplot(122)\n",
    "cax = ax.matshow(\n",
    "    np.flip(DuneCrest_sandfence,1) * 10,\n",
    "    origin=\"lower\",\n",
    "    cmap=\"bwr\",\n",
    "    aspect=\"auto\",\n",
    "    vmin=vmin,\n",
    "    vmax=vmax,\n",
    ")\n",
    "ax.xaxis.set_ticks_position(\"bottom\")\n",
    "cbar = duneFig.colorbar(cax)\n",
    "cbar.set_label('Dune Height Above Berm Elevation (m)', rotation=270, labelpad=25)\n",
    "plt.xlabel(\"Alongshore Distance (m)\")\n",
    "plt.ylabel(\"Year\")\n",
    "plt.title(\"sand fence\", weight=\"bold\")\n",
    "plt.xticks(x_ticks, x_tick_labels)"
   ]
  },
  {
   "cell_type": "markdown",
   "id": "ebc564d3-fc5f-4b86-b7e3-d113850fbec5",
   "metadata": {},
   "source": [
    "<b> Overwash"
   ]
  },
  {
   "cell_type": "code",
   "execution_count": null,
   "id": "2a528355",
   "metadata": {},
   "outputs": [],
   "source": [
    "# plotting the overwash flux \n",
    "\n",
    "plt.figure(figsize=(8,5))\n",
    "plt.rcParams.update({\"font.size\": 10})\n",
    "OWTS_natural_sand = cascade_natural_sandfence.barrier3d[0].QowTS #m3/m\n",
    "plt.plot(OWTS, label=\"natural\")\n",
    "plt.plot(OWTS_natural_sand, label=\"sand fence\")\n",
    "plt.xlabel(\"Year\")\n",
    "plt.ylabel(\"Overwash Flux [$m^3/m$]\")\n",
    "plt.legend()"
   ]
  },
  {
   "cell_type": "markdown",
   "id": "24d72166",
   "metadata": {},
   "source": [
    "<b> Shoreline Position"
   ]
  },
  {
   "cell_type": "code",
   "execution_count": null,
   "id": "8f909e3c",
   "metadata": {},
   "outputs": [],
   "source": [
    "# plotting the shoreline position \n",
    "\n",
    "plt.figsize=(5,3)\n",
    "sandfence_xsTS = np.subtract(cascade_natural_sandfence.barrier3d[0].x_s_TS, cascade_natural_sandfence.barrier3d[0].x_s_TS[0])  \n",
    "sandfence_xsTS_meters = np.multiply(sandfence_xsTS, 10)\n",
    "plt.plot(natural_xsTS_meters, label=\"natural\")\n",
    "plt.plot(sandfence_xsTS_meters, label=\"sand fence\")\n",
    "plt.xlabel(\"Year\")\n",
    "plt.ylabel(\"Shoreline Position (m)\")\n",
    "plt.legend()"
   ]
  },
  {
   "cell_type": "markdown",
   "id": "3edfa736-3468-4535-af06-af57f3f9b0f7",
   "metadata": {},
   "source": [
    "<b> Elevations"
   ]
  },
  {
   "cell_type": "code",
   "execution_count": null,
   "id": "2b21b8b2",
   "metadata": {},
   "outputs": [],
   "source": [
    "vmin = -3\n",
    "vmax = 6\n",
    "elev_fig = plt.figure(figsize=(12, 10))\n",
    "plt.rcParams.update({\"font.size\": 10})\n",
    "\n",
    "# natural dynamics -----------------------------------------------------------------------------------------------\n",
    "# year 0\n",
    "dune_domain = np.transpose(cascade_natural.barrier3d[0]._DuneDomain[0]) + cascade_natural.barrier3d[0].BermEl\n",
    "interior_domain = cascade_natural.barrier3d[0]._DomainTS[0]\n",
    "full_domain = np.vstack([dune_domain, interior_domain])\n",
    "\n",
    "ax1 = elev_fig.add_subplot(321)\n",
    "mat = ax1.matshow(\n",
    "    np.flip(full_domain) * 10,\n",
    "    cmap=\"terrain\",\n",
    "    vmin=vmin,\n",
    "    vmax=vmax,\n",
    ")\n",
    "plt.title(r\"$\\bf{natural}$\" + \"\\n year 0\")\n",
    "plt.gca().xaxis.tick_bottom()\n",
    "xtick_max = np.shape(full_domain)[1]  # n_cols = x\n",
    "x_ticks = np.array(range(0, xtick_max, 10))\n",
    "x_tick_labels = x_ticks * 10\n",
    "ytick_max = np.shape(full_domain)[0]  # n_rows = y\n",
    "y_ticks = np.array(range(0, ytick_max, 10))\n",
    "y_tick_labels = y_ticks * 10\n",
    "plt.xticks(x_ticks, x_tick_labels)\n",
    "plt.yticks(y_ticks, y_tick_labels)\n",
    "plt.ylabel(\"Barrier Width (m)\")\n",
    "plt.xlabel(\"Barrier Length (m)\")\n",
    "cbar = elev_fig.colorbar(mat)\n",
    "cbar.set_label('m MHW', rotation=270, labelpad=5)\n",
    "\n",
    "\n",
    "# year 50\n",
    "dune_domain = np.transpose(cascade_natural.barrier3d[0]._DuneDomain[50]) + cascade_natural.barrier3d[0].BermEl\n",
    "interior_domain = cascade_natural.barrier3d[0]._DomainTS[50]\n",
    "full_domain = np.vstack([dune_domain, interior_domain])\n",
    "\n",
    "ax1 = elev_fig.add_subplot(323)\n",
    "mat = ax1.matshow(\n",
    "    np.flip(full_domain) * 10,\n",
    "    cmap=\"terrain\",\n",
    "    vmin=vmin,\n",
    "    vmax=vmax,\n",
    ")\n",
    "plt.title(\"year 50\")\n",
    "plt.gca().xaxis.tick_bottom()\n",
    "xtick_max = np.shape(full_domain)[1]  # n_cols = x\n",
    "x_ticks = np.array(range(0, xtick_max, 10))\n",
    "x_tick_labels = x_ticks * 10\n",
    "ytick_max = np.shape(full_domain)[0]  # n_rows = y\n",
    "y_ticks = np.array(range(0, ytick_max, 10))\n",
    "y_tick_labels = y_ticks * 10\n",
    "plt.xticks(x_ticks, x_tick_labels)\n",
    "plt.yticks(y_ticks, y_tick_labels)\n",
    "plt.ylabel(\"Barrier Width (m)\")\n",
    "plt.xlabel(\"Barrier Length (m)\")\n",
    "cbar = elev_fig.colorbar(mat)\n",
    "cbar.set_label('m MHW', rotation=270, labelpad=5)\n",
    "\n",
    "# year 100\n",
    "dune_domain = np.transpose(cascade_natural.barrier3d[0]._DuneDomain[100]) + cascade_natural.barrier3d[0].BermEl\n",
    "interior_domain = cascade_natural.barrier3d[0]._DomainTS[100]\n",
    "full_domain = np.vstack([dune_domain, interior_domain])\n",
    "\n",
    "ax1 = elev_fig.add_subplot(325)\n",
    "mat = ax1.matshow(\n",
    "    np.flip(full_domain) * 10,\n",
    "    cmap=\"terrain\",\n",
    "    vmin=vmin,\n",
    "    vmax=vmax,\n",
    ")\n",
    "plt.title(\"year 100\")\n",
    "plt.gca().xaxis.tick_bottom()\n",
    "xtick_max = np.shape(full_domain)[1]  # n_cols = x\n",
    "x_ticks = np.array(range(0, xtick_max, 10))\n",
    "x_tick_labels = x_ticks * 10\n",
    "ytick_max = np.shape(full_domain)[0]  # n_rows = y\n",
    "y_ticks = np.array(range(0, ytick_max, 10))\n",
    "y_tick_labels = y_ticks * 10\n",
    "plt.xticks(x_ticks, x_tick_labels)\n",
    "plt.yticks(y_ticks, y_tick_labels)\n",
    "plt.ylabel(\"Barrier Width (m)\")\n",
    "plt.xlabel(\"Barrier Length (m)\")\n",
    "cbar = elev_fig.colorbar(mat)\n",
    "cbar.set_label('m MHW', rotation=270, labelpad=5)\n",
    "\n",
    "\n",
    "# sand fence ------------------------------------------------------------------------------------------------------\n",
    "# year 0\n",
    "dune_domain = np.transpose(cascade_natural_sandfence.barrier3d[0]._DuneDomain[0]) + cascade_natural_sandfence.barrier3d[0].BermEl\n",
    "interior_domain = cascade_natural_sandfence.barrier3d[0]._DomainTS[0]\n",
    "full_domain = np.vstack([dune_domain, interior_domain])\n",
    "\n",
    "ax1 = elev_fig.add_subplot(322)\n",
    "mat = ax1.matshow(\n",
    "    np.flip(full_domain) * 10,\n",
    "    cmap=\"terrain\",\n",
    "    vmin=vmin,\n",
    "    vmax=vmax,\n",
    ")\n",
    "plt.title(r\"$\\bf{sand \\ fence}$\" + \"\\n year 0\")\n",
    "plt.gca().xaxis.tick_bottom()\n",
    "xtick_max = np.shape(full_domain)[1]  # n_cols = x\n",
    "x_ticks = np.array(range(0, xtick_max, 10))\n",
    "x_tick_labels = x_ticks * 10\n",
    "ytick_max = np.shape(full_domain)[0]  # n_rows = y\n",
    "y_ticks = np.array(range(0, ytick_max, 10))\n",
    "y_tick_labels = y_ticks * 10\n",
    "plt.xticks(x_ticks, x_tick_labels)\n",
    "plt.yticks(y_ticks, y_tick_labels)\n",
    "plt.ylabel(\"Barrier Width (m)\")\n",
    "plt.xlabel(\"Barrier Length (m)\")\n",
    "cbar = elev_fig.colorbar(mat)\n",
    "cbar.set_label('m MHW', rotation=270, labelpad=5)\n",
    "\n",
    "\n",
    "# year 50\n",
    "dune_domain = np.transpose(cascade_natural_sandfence.barrier3d[0]._DuneDomain[50]) + cascade_natural_sandfence.barrier3d[0].BermEl\n",
    "interior_domain = cascade_natural_sandfence.barrier3d[0]._DomainTS[50]\n",
    "full_domain = np.vstack([dune_domain, interior_domain])\n",
    "\n",
    "ax1 = elev_fig.add_subplot(324)\n",
    "mat = ax1.matshow(\n",
    "    np.flip(full_domain) * 10,\n",
    "    cmap=\"terrain\",\n",
    "    vmin=vmin,\n",
    "    vmax=vmax,\n",
    ")\n",
    "plt.title(\"year 50\")\n",
    "plt.gca().xaxis.tick_bottom()\n",
    "xtick_max = np.shape(full_domain)[1]  # n_cols = x\n",
    "x_ticks = np.array(range(0, xtick_max, 10))\n",
    "x_tick_labels = x_ticks * 10\n",
    "ytick_max = np.shape(full_domain)[0]  # n_rows = y\n",
    "y_ticks = np.array(range(0, ytick_max, 10))\n",
    "y_tick_labels = y_ticks * 10\n",
    "plt.xticks(x_ticks, x_tick_labels)\n",
    "plt.yticks(y_ticks, y_tick_labels)\n",
    "plt.ylabel(\"Barrier Width (m)\")\n",
    "plt.xlabel(\"Barrier Length (m)\")\n",
    "cbar = elev_fig.colorbar(mat)\n",
    "cbar.set_label('m MHW', rotation=270, labelpad=5)\n",
    "\n",
    "\n",
    "# year 100\n",
    "dune_domain = np.transpose(cascade_natural_sandfence.barrier3d[0]._DuneDomain[100]) + cascade_natural_sandfence.barrier3d[0].BermEl\n",
    "interior_domain = cascade_natural_sandfence.barrier3d[0]._DomainTS[100]\n",
    "full_domain = np.vstack([dune_domain, interior_domain])\n",
    "\n",
    "ax1 = elev_fig.add_subplot(326)\n",
    "mat = ax1.matshow(\n",
    "    np.flip(full_domain) * 10,\n",
    "    cmap=\"terrain\",\n",
    "    vmin=vmin,\n",
    "    vmax=vmax,\n",
    ")\n",
    "plt.title(\"year 100\")\n",
    "plt.gca().xaxis.tick_bottom()\n",
    "xtick_max = np.shape(full_domain)[1]  # n_cols = x\n",
    "x_ticks = np.array(range(0, xtick_max, 10))\n",
    "x_tick_labels = x_ticks * 10\n",
    "ytick_max = np.shape(full_domain)[0]  # n_rows = y\n",
    "y_ticks = np.array(range(0, ytick_max, 10))\n",
    "y_tick_labels = y_ticks * 10\n",
    "plt.xticks(x_ticks, x_tick_labels)\n",
    "plt.yticks(y_ticks, y_tick_labels)\n",
    "plt.ylabel(\"Barrier Width (m)\")\n",
    "plt.xlabel(\"Barrier Length (m)\")\n",
    "cbar = elev_fig.colorbar(mat)\n",
    "cbar.set_label('m MHW', rotation=270, labelpad=5)\n",
    "\n",
    "\n",
    "plt.subplots_adjust(hspace=0.5, wspace=0)"
   ]
  }
 ],
 "metadata": {
  "kernelspec": {
   "display_name": "CSDMS",
   "language": "python",
   "name": "csdms"
  },
  "language_info": {
   "codemirror_mode": {
    "name": "ipython",
    "version": 3
   },
   "file_extension": ".py",
   "mimetype": "text/x-python",
   "name": "python",
   "nbconvert_exporter": "python",
   "pygments_lexer": "ipython3",
   "version": "3.11.7"
  }
 },
 "nbformat": 4,
 "nbformat_minor": 5
}
